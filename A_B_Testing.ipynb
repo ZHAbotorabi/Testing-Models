{
  "nbformat": 4,
  "nbformat_minor": 0,
  "metadata": {
    "colab": {
      "provenance": [],
      "authorship_tag": "ABX9TyOfzNnTHHQz/LSQdPoQc0jW",
      "include_colab_link": true
    },
    "kernelspec": {
      "name": "python3",
      "display_name": "Python 3"
    },
    "language_info": {
      "name": "python"
    }
  },
  "cells": [
    {
      "cell_type": "markdown",
      "metadata": {
        "id": "view-in-github",
        "colab_type": "text"
      },
      "source": [
        "<a href=\"https://colab.research.google.com/github/ZHAbotorabi/Testing-Models/blob/main/A_B_Testing.ipynb\" target=\"_parent\"><img src=\"https://colab.research.google.com/assets/colab-badge.svg\" alt=\"Open In Colab\"/></a>"
      ]
    },
    {
      "cell_type": "markdown",
      "source": [
        "# **A/B Testing** Sample!\n",
        "Here's a complete Colab structure that will guide you through the process of A/B testing using simulated data. This notebook will include steps for simulating data, calculating conversion rates, performing a t-test, and interpreting the results."
      ],
      "metadata": {
        "id": "b-aDRc-Cmqne"
      }
    },
    {
      "cell_type": "markdown",
      "source": [
        "## Explanation of Each Step:\n",
        "1. Import Libraries: We use numpy for data simulation, scipy.stats for the t-test, and matplotlib.pyplot for visualization.\n",
        "\n",
        "2. Simulate Data: We simulate conversion outcomes using the np.random.binomial function for both versions (A and B) with different conversion rates (15% for A, 18% for B).\n",
        "\n",
        "3. Calculate Conversion Rates: We calculate the actual conversion rate for each version by taking the mean of the simulated binary outcomes.\n",
        "\n",
        "4. Visualize the Results: A bar chart visually compares the conversion rates of both versions, helping you quickly see any apparent differences.\n",
        "\n",
        "5. Perform Statistical Test: We use a two-sample t-test to check if the difference in conversion rates between Version A and Version B is statistically significant.\n",
        "\n",
        "6. Interpret Results: Based on the p-value from the t-test, we conclude whether the difference is significant at a 5% significance level (alpha = 0.05).\n",
        "\n",
        "7. Calculate Lift (Optional): Lift is the percentage increase in conversions that Version B has over Version A. It can be useful in understanding the practical impact of the difference."
      ],
      "metadata": {
        "id": "6682kMY-oPHC"
      }
    },
    {
      "cell_type": "markdown",
      "source": [],
      "metadata": {
        "id": "aCu51fDN_wpt"
      }
    },
    {
      "cell_type": "code",
      "source": [
        "# A/B Testing in Python: Google Colab Notebook\n",
        "# This notebook will guide you through the A/B testing process using simulated data.\n",
        "\n",
        "# Step 1: Import Necessary Libraries\n",
        "import numpy as np\n",
        "from scipy import stats\n",
        "import matplotlib.pyplot as plt"
      ],
      "metadata": {
        "id": "p3CtIx8Sm86R"
      },
      "execution_count": 1,
      "outputs": []
    },
    {
      "cell_type": "markdown",
      "source": [
        "# Binary Outcomes Explained in A/B Testing\n",
        "When we say \"binary outcomes,\" we are referring to an experiment or event that can have only two possible results. In the case of A/B testing for website conversions, the two outcomes are:\n",
        "\n",
        "- **1 (Conversion)**: This indicates that the user signed up or completed the desired action (e.g., clicking a button, making a purchase, etc.).\n",
        "- **0 (No Conversion)**: This indicates that the user did not sign up or did not complete the desired action.\n",
        "\n",
        "## Why Use Binary Outcomes?\n",
        "\n",
        "In many A/B tests, we want to track whether a user takes a specific action, such as signing up for an account, clicking a link, or making a purchase. These are often \"yes\" or \"no\" actions, meaning that there are only two possible outcomes:\n",
        "\n",
        "- **Success (Conversion)**: The user performs the desired action.\n",
        "- **Failure (No Conversion)**: The user does not perform the desired action.\n",
        "\n",
        "This makes it a binary outcome, where each trial (or user interaction) has only two possible outcomes.\n",
        "\n",
        "## How We Simulate Binary Outcomes\n",
        "\n",
        "In A/B testing, we often simulate or record these outcomes using a **binomial distribution**. The binomial distribution is used because we are dealing with a series of independent trials (user visits) where each trial has two possible outcomes (conversion or no conversion), and each trial has the same probability of success (conversion rate).\n",
        "\n",
        "In your case:\n",
        "\n",
        "- **Conversion rate for Version A** might be 15%, meaning 15% of users who visit Version A of the webpage will convert (sign up).\n",
        "- **Conversion rate for Version B** might be 18%, meaning 18% of users who visit Version B will convert.\n",
        "\n",
        "Each user is independently either a success (conversion = 1) or a failure (no conversion = 0), with a certain probability of success based on the conversion rate.\n",
        "\n",
        "## Simulating Binary Outcomes Using Python\n",
        "\n",
        "We simulate this with the `numpy.random.binomial` function. Here's how it works:\n",
        "\n",
        "```python\n",
        "# Simulate data: Let's assume we have 1000 visitors to each version of the webpage\n",
        "# For simplicity, we simulate binary outcomes: 1 for conversion (user signed up), 0 for no conversion (user did not sign up)\n",
        "\n",
        "conversion_rate_a = 0.15\n",
        "n = 1000  # Number of users\n",
        "version_a_conversions = np.random.binomial(1, conversion_rate_a, n)\n"
      ],
      "metadata": {
        "id": "yw4jf_UDnLFX"
      }
    },
    {
      "cell_type": "code",
      "source": [
        "# Version A: 1000 users, with a 15% conversion rate\n",
        "np.random.seed(42)  # For reproducibility\n",
        "version_a_conversions = np.random.binomial(1, 0.15, 1000)"
      ],
      "metadata": {
        "id": "ZD3MAqCBAq4F"
      },
      "execution_count": 9,
      "outputs": []
    },
    {
      "cell_type": "code",
      "source": [
        "# Step 2: Simulate Data for A/B Test\n",
        "# Define the parameters for each version\n",
        "n = 1000  # Number of users per group\n",
        "conversion_rate_a = 0.15  # Conversion rate for Version A (15%)\n",
        "conversion_rate_b = 0.18  # Conversion rate for Version B (18%)\n",
        "\n",
        "# Set a random seed for reproducibility\n",
        "np.random.seed(42)\n",
        "\n",
        "# Simulate conversion outcomes for Version A and Version B\n",
        "version_a_conversions = np.random.binomial(1, conversion_rate_a, n)\n",
        "version_b_conversions = np.random.binomial(1, conversion_rate_b, n)\n"
      ],
      "metadata": {
        "id": "p2-3WO4pnLwR"
      },
      "execution_count": 2,
      "outputs": []
    },
    {
      "cell_type": "code",
      "source": [
        "# Step 3: Calculate Conversion Rates\n",
        "conversion_rate_a_actual = np.mean(version_a_conversions)\n",
        "conversion_rate_b_actual = np.mean(version_b_conversions)\n",
        "\n",
        "print(f\"Conversion rate for Version A: {conversion_rate_a_actual:.2%}\")\n",
        "print(f\"Conversion rate for Version B: {conversion_rate_b_actual:.2%}\")"
      ],
      "metadata": {
        "colab": {
          "base_uri": "https://localhost:8080/"
        },
        "id": "NAXDCdlxnE2V",
        "outputId": "66b2c7c5-bb1e-4116-cafa-824c95d42528"
      },
      "execution_count": 3,
      "outputs": [
        {
          "output_type": "stream",
          "name": "stdout",
          "text": [
            "Conversion rate for Version A: 15.30%\n",
            "Conversion rate for Version B: 17.80%\n"
          ]
        }
      ]
    },
    {
      "cell_type": "markdown",
      "source": [
        "# Step 4: Visualize the Results\n",
        "# Create a bar chart to compare the conversion rates visually\n",
        "labels = ['Version A', 'Version B']\n",
        "conversion_rates = [conversion_rate_a_actual, conversion_rate_b_actual]\n",
        "\n",
        "plt.bar(labels, conversion_rates, color=['blue', 'green'])\n",
        "plt.xlabel('Version')\n",
        "plt.ylabel('Conversion Rate')\n",
        "plt.title('Conversion Rate Comparison')\n",
        "plt.ylim(0, 0.3)  # Set y-axis limit for better visualization\n",
        "plt.show()"
      ],
      "metadata": {
        "id": "idVoc6sfnZFQ"
      }
    },
    {
      "cell_type": "code",
      "source": [
        "# Step 4: Visualize the Results\n",
        "# Create a bar chart to compare the conversion rates visually\n",
        "labels = ['Version A', 'Version B']\n",
        "conversion_rates = [conversion_rate_a_actual, conversion_rate_b_actual]\n",
        "\n",
        "plt.bar(labels, conversion_rates, color=['blue', 'green'])\n",
        "plt.xlabel('Version')\n",
        "plt.ylabel('Conversion Rate')\n",
        "plt.title('Conversion Rate Comparison')\n",
        "plt.ylim(0, 0.3)  # Set y-axis limit for better visualization\n",
        "plt.show()"
      ],
      "metadata": {
        "colab": {
          "base_uri": "https://localhost:8080/",
          "height": 472
        },
        "id": "32m7qE2lncHD",
        "outputId": "bf90b242-0a79-44bc-d120-444a2f87e43d"
      },
      "execution_count": 4,
      "outputs": [
        {
          "output_type": "display_data",
          "data": {
            "text/plain": [
              "<Figure size 640x480 with 1 Axes>"
            ],
            "image/png": "[encoded data removed]"
          },
          "metadata": {}
        }
      ]
    },
    {
      "cell_type": "markdown",
      "source": [],
      "metadata": {
        "id": "4vOr0_HOnmO3"
      }
    },
    {
      "cell_type": "code",
      "source": [
        "# Step 5: Perform Statistical Test\n",
        "# Use a two-sample t-test to determine if there is a statistically significant difference\n",
        "t_stat, p_value = stats.ttest_ind(version_a_conversions, version_b_conversions)\n",
        "\n",
        "print(f\"T-statistic: {t_stat:.2f}\")\n",
        "print(f\"P-value: {p_value:.4f}\")"
      ],
      "metadata": {
        "colab": {
          "base_uri": "https://localhost:8080/"
        },
        "id": "dGuQZWCenm4V",
        "outputId": "8e33b17d-1164-4654-ef46-de64acbbf2ab"
      },
      "execution_count": 5,
      "outputs": [
        {
          "output_type": "stream",
          "name": "stdout",
          "text": [
            "T-statistic: -1.50\n",
            "P-value: 0.1327\n"
          ]
        }
      ]
    },
    {
      "cell_type": "code",
      "source": [
        "# Step 6: Interpret the Results\n",
        "alpha = 0.05  # Significance level\n",
        "\n",
        "if p_value < alpha:\n",
        "    print(\"The difference in conversion rates is statistically significant.\")\n",
        "    print(\"Version B is likely to perform better than Version A.\")\n",
        "else:\n",
        "    print(\"The difference in conversion rates is not statistically significant.\")\n",
        "    print(\"We do not have enough evidence to say Version B performs better.\")"
      ],
      "metadata": {
        "colab": {
          "base_uri": "https://localhost:8080/"
        },
        "id": "Dla-ivBMnvNb",
        "outputId": "83f3c9f8-68e3-46e2-bb60-e1c8a682c96c"
      },
      "execution_count": 6,
      "outputs": [
        {
          "output_type": "stream",
          "name": "stdout",
          "text": [
            "The difference in conversion rates is not statistically significant.\n",
            "We do not have enough evidence to say Version B performs better.\n"
          ]
        }
      ]
    },
    {
      "cell_type": "markdown",
      "source": [],
      "metadata": {
        "id": "3Y9xZSbIn33w"
      }
    },
    {
      "cell_type": "code",
      "source": [
        "# Optional: Step 7 - Calculate the Lift in Conversion Rate\n",
        "# The \"lift\" represents the percentage increase in conversions from Version A to Version B\n",
        "lift = (conversion_rate_b_actual - conversion_rate_a_actual) / conversion_rate_a_actual\n",
        "print(f\"Lift: {lift:.2%}\")"
      ],
      "metadata": {
        "colab": {
          "base_uri": "https://localhost:8080/"
        },
        "id": "0o1qKLW2n3IG",
        "outputId": "dd27f961-63b4-4850-ff36-a6c60932e16f"
      },
      "execution_count": 7,
      "outputs": [
        {
          "output_type": "stream",
          "name": "stdout",
          "text": [
            "Lift: 16.34%\n"
          ]
        }
      ]
    },
    {
      "cell_type": "markdown",
      "source": [
        "## Usage Notes\n",
        "* Adjust Parameters: Feel free to change n, conversion_rate_a, and conversion_rate_b to explore different scenarios.\n",
        "\n",
        "* Interpretation: The significance of the results depends on the p-value. A low p-value (e.g., less than 0.05) suggests that the difference in conversion rates is likely not due to random chance.\n",
        "\n",
        "This notebook provides a simple but effective framework for running A/B tests and interpreting their results. Let me know if you’d like additional features or modifications!"
      ],
      "metadata": {
        "id": "YbI-VzldmiOn"
      }
    },
    {
      "cell_type": "code",
      "source": [],
      "metadata": {
        "id": "Oqc1LbzL1DIe"
      },
      "execution_count": null,
      "outputs": []
    },
    {
      "cell_type": "markdown",
      "source": [
        "# Understanding the T-Test in A/B Testing\n",
        "\n",
        "The **t-test** is a statistical method used to compare the means of two groups to determine if there is a statistically significant difference between them. In A/B testing, the t-test is useful when we want to compare the performance of two versions (e.g., Version A and Version B) based on a continuous outcome, like conversion rates or average time on a webpage.\n",
        "\n",
        "### Types of T-Tests\n",
        "1. **Independent Samples t-test (Two-Sample t-test)**:\n",
        "   - Used to compare the means of two independent groups (e.g., two different groups of users who saw Version A and Version B).\n",
        "   \n",
        "2. **Paired Sample t-test (Dependent t-test)**:\n",
        "   - Used to compare two related sets of observations, often from the same group measured at different times (e.g., user satisfaction before and after a change).\n",
        "\n",
        "3. **One-Sample t-test**:\n",
        "   - Used to compare the mean of a single group against a known value or population mean (e.g., testing if the average time on page meets an industry standard).\n",
        "\n",
        "### Steps in Conducting a T-Test\n",
        "For an **independent samples t-test** comparing two groups (e.g., conversion rates of Version A and Version B):\n",
        "\n",
        "1. **Set Up Hypotheses**:\n",
        "   - **Null Hypothesis (H₀)**: The means of the two groups are equal (no difference in conversion rates).\n",
        "   - **Alternative Hypothesis (H₁)**: The means of the two groups are different (there is a difference in conversion rates).\n",
        "\n",
        "2. **Calculate the T-Statistic**:\n",
        "   - The t-statistic is calculated as:\n",
        "\n",
        "$$t = \\frac{\\bar{X}_1 - \\bar{X}_2}{\\sqrt{\\frac{s_1^2}{n_1} + \\frac{s_2^2}{n_2}}}$$\n",
        "     where:\n",
        "*  $\\bar{X}_1$ and $\\bar{X}_2$ are the means of the two groups.\n",
        "* $s_1^2$ and $s_2^2$ are the variances of the two groups.\n",
        "* $n_1$ and $n_2$ are the sample sizes of the two groups.\n",
        "  \n",
        "\n",
        "3. **Determine the p-value**:\n",
        "   - The p-value indicates the probability that the observed difference in means occurred by chance.\n",
        "   - If the **p-value is less than a chosen significance level** (often 0.05), we reject the null hypothesis, suggesting that the difference is statistically significant.\n",
        "\n",
        "4. **Interpret the Results**:\n",
        "   - **If p-value < 0.05**: The difference between the means is statistically significant, and we reject the null hypothesis.\n",
        "   - **If p-value ≥ 0.05**: We fail to reject the null hypothesis, meaning there is no statistically significant difference between the two groups.\n"
      ],
      "metadata": {
        "id": "J-hHrcxa1EFD"
      }
    },
    {
      "cell_type": "markdown",
      "source": [],
      "metadata": {
        "id": "q7n0JsI_1L8H"
      }
    },
    {
      "cell_type": "markdown",
      "source": [
        "# Applying the T-Test in A/B Testing\n",
        "\n",
        "In this section, we will apply the **t-test** to compare the means of two different versions (Version A and Version B) based on some simulated conversion rates. The **t-test** helps us determine if there is a significant difference between the two versions in terms of their performance (e.g., conversion rate).\n",
        "\n",
        "### Example Scenario\n",
        "\n",
        "Imagine we are testing two different webpage versions (Version A and Version B) and we want to see if there is a significant difference in the conversion rates. The conversion data for 10 users in each version is as follows:\n",
        "\n",
        "- **Version A**: Conversion rates `[0, 1, 0, 1, 0, 1, 1, 0, 1, 0]`\n",
        "- **Version B**: Conversion rates `[1, 1, 0, 1, 1, 1, 1, 0, 1, 1]`\n",
        "\n",
        "### Step 1: Set Up Hypotheses\n",
        "\n",
        "- **Null Hypothesis (H₀)**: The means of the two versions are equal (no significant difference in conversion rates between Version A and Version B).\n",
        "- **Alternative Hypothesis (H₁)**: The means of the two versions are different (there is a significant difference in conversion rates between Version A and Version B).\n",
        "\n",
        "### Step 2: Calculate the T-Statistic\n",
        "\n",
        "The t-statistic is calculated using the following formula:\n",
        "\n",
        "$$\n",
        "t = \\frac{\\bar{X}_A - \\bar{X}_B}{\\sqrt{\\frac{s_A^2}{n_A} + \\frac{s_B^2}{n_B}}}\n",
        "$$\n",
        "\n",
        "Where:\n",
        "- $\\bar{X}_A$ and $\\bar{X}_B$ are the means of Version A and Version B.\n",
        "- $s_A^2$ and $s_B^2$ are the sample variances of Version A and Version B.\n",
        "- $n_A$ and $n_B$ are the sample sizes of Version A and Version B.\n",
        "\n",
        "#### 2.1. Compute the Means of Each Group\n",
        "\n",
        "- **Mean of Version A**:\n",
        "  $$ \\bar{X}_A = \\frac{0 + 1 + 0 + 1 + 0 + 1 + 1 + 0 + 1 + 0}{10} = 0.5 $$\n",
        "\n",
        "- **Mean of Version B**:\n",
        "  $$ \\bar{X}_B = \\frac{1 + 1 + 0 + 1 + 1 + 1 + 1 + 0 + 1 + 1}{10} = 0.8 $$\n",
        "\n",
        "#### 2.2. Compute the Sample Variances for Each Group\n",
        "\n",
        "- **Variance of Version A ($s_A^2$)**:  \n",
        "  $$ s_A^2 = \\frac{\\sum (X_A - \\bar{X}_A)^2}{n_A - 1} $$  \n",
        "  For Version A, we calculate the squared deviations from the mean and then compute the variance. The variance will turn out to be $0.25$.\n",
        "\n",
        "- **Variance of Version B ($s_B^2$)**:  \n",
        "  $$ s_B^2 = \\frac{\\sum (X_B - \\bar{X}_B)^2}{n_B - 1} $$  \n",
        "  For Version B, we similarly calculate the squared deviations and the variance, which will be $0.2$.\n",
        "\n",
        "#### 2.3. Calculate the Standard Error of the Difference Between the Means\n",
        "\n",
        "$$\n",
        "SE = \\sqrt{\\frac{s_A^2}{n_A} + \\frac{s_B^2}{n_B}}\n",
        "$$\n",
        "\n",
        "Substituting the values:\n",
        "$$\n",
        "SE = \\sqrt{\\frac{0.25}{10} + \\frac{0.2}{10}} = \\sqrt{0.025 + 0.02} = \\sqrt{0.045} \\approx 0.212\n",
        "$$\n",
        "\n",
        "#### 2.4. Compute the T-Statistic\n",
        "\n",
        "Substituting the values into the t-statistic formula:\n",
        "\n",
        "$$\n",
        "t = \\frac{0.5 - 0.8}{0.212} = \\frac{-0.3}{0.212} \\approx -1.42\n",
        "$$\n",
        "\n",
        "### Step 3: Determine the P-Value\n",
        "\n",
        "To determine the **p-value**, we need to find the probability of observing a t-statistic as extreme as $-1.42$ (or more extreme) under the null hypothesis. Using a **t-distribution** table or software, we can find the p-value for $t = -1.42$ with degrees of freedom $df = n_A + n_B - 2 = 10 + 10 - 2 = 18$.\n",
        "\n",
        "For a two-tailed test, the p-value is approximately $0.175$.\n",
        "\n",
        "### Step 4: Interpret the Results\n",
        "\n",
        "- **If p-value < 0.05**: Reject the null hypothesis. There is a significant difference between the two versions.\n",
        "- **If p-value >= 0.05**: Fail to reject the null hypothesis. There is no significant difference between the two versions.\n",
        "\n",
        "In our case, since the **p-value** is $0.175$, which is greater than $0.05$, we **fail to reject the null hypothesis**. Therefore, there is **no significant difference** between the conversion rates of Version A and Version B.\n",
        "\n",
        "\n",
        "## Conclusion\n",
        "\n",
        "* Using the t-test, we have determined that, based on our data, there is no significant difference between the two versions' conversion rates. This means we cannot conclude that one version outperforms the other based on this data set.\n"
      ],
      "metadata": {
        "id": "3iOonCZ9-YXE"
      }
    }
  ]
}