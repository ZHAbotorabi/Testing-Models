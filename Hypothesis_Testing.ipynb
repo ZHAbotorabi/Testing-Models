{
  "nbformat": 4,
  "nbformat_minor": 0,
  "metadata": {
    "colab": {
      "provenance": [],
      "authorship_tag": "ABX9TyNchePECtrbk3PmmAmPMt85",
      "include_colab_link": true
    },
    "kernelspec": {
      "name": "python3",
      "display_name": "Python 3"
    },
    "language_info": {
      "name": "python"
    }
  },
  "cells": [
    {
      "cell_type": "markdown",
      "metadata": {
        "id": "view-in-github",
        "colab_type": "text"
      },
      "source": [
        "<a href=\"https://colab.research.google.com/github/ZHAbotorabi/Testing-Models/blob/main/Hypothesis_Testing.ipynb\" target=\"_parent\"><img src=\"https://colab.research.google.com/assets/colab-badge.svg\" alt=\"Open In Colab\"/></a>"
      ]
    },
    {
      "cell_type": "markdown",
      "source": [
        "# Hypothesis Testing\n",
        "\n",
        "### Real Application: Assessing the Effectiveness of a New Drug\n",
        "\n",
        "The provided code can be applied in a **clinical trial setting** to evaluate whether the difference in outcomes between a control group (e.g., placebo) and an experimental group (e.g., new drug) is statistically significant.\n",
        "\n",
        "---\n",
        "\n",
        "### Scenario\n",
        "A pharmaceutical company tests a new drug's impact on reducing the duration of a specific illness.\n",
        "\n",
        "- Patients are divided into two groups:\n",
        "  - **Control**: Receives a placebo.\n",
        "  - **Experimental**: Receives the new drug.\n",
        "  \n",
        "- The mean illness duration for each group is measured, and the observed difference is calculated.\n",
        "- To test whether the observed difference is due to the drug's effectiveness or random chance, a **permutation test** is performed.\n",
        "\n",
        "---\n",
        "\n",
        "### Steps\n",
        "\n",
        "#### 1. Data Collection\n",
        "- Illness durations are collected for patients in both groups.\n",
        "- Example:\n",
        "  - **Control**: `[7, 5, 4,...]`\n",
        "  - **Experimental**: `[5, 8,...]`\n",
        "\n",
        "#### 2. Observed Difference\n",
        "- Compute the difference in mean durations between the two groups.\n",
        "\n",
        "#### 3. Permutations\n",
        "- Randomly shuffle the data and reassign patients to groups.\n",
        "- Recalculate the mean difference for each permutation.\n",
        "- This process builds a distribution of differences under the null hypothesis (no actual drug effect).\n",
        "\n",
        "#### 4. Statistical Inference\n",
        "- Compare the observed difference to the permutation distribution.\n",
        "- If the observed difference is extreme (e.g., in the top or bottom 5% of the distribution), conclude the drug has a significant effect.\n",
        "\n",
        "---\n",
        "\n",
        "### Example with Code\n",
        "Suppose we observe that the experimental group recovers faster, but we need evidence that the improvement isn't just due to chance. Using the provided code:\n",
        "\n",
        "1. **Input**:\n",
        "   - Actual illness durations for control and experimental groups.\n",
        "2. **Output**:\n",
        "   - A distribution of differences under the null hypothesis.\n",
        "3. **Inference**:\n",
        "   - If the observed difference lies outside the typical range (e.g., a p-value < 0.05), we conclude the drug effect is statistically significant.\n",
        "\n",
        "---\n",
        "\n",
        "### Visualization\n",
        "The histogram generated in the code will show:\n",
        "- The distribution of permuted differences.\n",
        "- The observed difference marked as a red line.\n",
        "- Whether the observed difference is within the expected range or significant.\n",
        "\n",
        "---\n",
        "\n",
        "### Benefits of This Method\n",
        "This method is **non-parametric**, meaning it does not assume the data follows a normal distribution. It is robust and particularly suitable for small datasets, as often encountered in initial clinical trials.\n"
      ],
      "metadata": {
        "id": "4aZIIR84k2mo"
      }
    },
    {
      "cell_type": "code",
      "execution_count": null,
      "metadata": {
        "id": "w8uip-o9Y_wv"
      },
      "outputs": [],
      "source": []
    },
    {
      "cell_type": "markdown",
      "source": [
        "# Hypothesis Testing\n",
        "\n",
        "### 1. Creating a Sample Distribution from our Control and Experimental groups"
      ],
      "metadata": {
        "id": "ve-G9j04ZDfd"
      }
    },
    {
      "cell_type": "code",
      "source": [
        "import pandas as pd\n",
        "import numpy as np\n",
        "import seaborn as sns\n",
        "import matplotlib.pyplot as plt\n",
        "\n",
        "file_name = \"Data_Drug.xlsx\"\n",
        "df = pd.read_excel(file_name)\n",
        "df.head()"
      ],
      "metadata": {
        "colab": {
          "base_uri": "https://localhost:8080/",
          "height": 206
        },
        "id": "dSypMN0hZHvU",
        "outputId": "580bcd9b-521d-4d82-a098-36ecb5e23aaf"
      },
      "execution_count": 1,
      "outputs": [
        {
          "output_type": "execute_result",
          "data": {
            "text/plain": [
              "     group  mean_duration\n",
              "0  Control              7\n",
              "1  Control              5\n",
              "2  Control              4\n",
              "3  Control              5\n",
              "4  Control              8"
            ],
            "text/html": [
              "\n",
              "  <div id=\"df-8ea612cc-fb25-4f37-8280-24fb38a10dd6\" class=\"colab-df-container\">\n",
              "    <div>\n",
              "<style scoped>\n",
              "    .dataframe tbody tr th:only-of-type {\n",
              "        vertical-align: middle;\n",
              "    }\n",
              "\n",
              "    .dataframe tbody tr th {\n",
              "        vertical-align: top;\n",
              "    }\n",
              "\n",
              "    .dataframe thead th {\n",
              "        text-align: right;\n",
              "    }\n",
              "</style>\n",
              "<table border=\"1\" class=\"dataframe\">\n",
              "  <thead>\n",
              "    <tr style=\"text-align: right;\">\n",
              "      <th></th>\n",
              "      <th>group</th>\n",
              "      <th>mean_duration</th>\n",
              "    </tr>\n",
              "  </thead>\n",
              "  <tbody>\n",
              "    <tr>\n",
              "      <th>0</th>\n",
              "      <td>Control</td>\n",
              "      <td>7</td>\n",
              "    </tr>\n",
              "    <tr>\n",
              "      <th>1</th>\n",
              "      <td>Control</td>\n",
              "      <td>5</td>\n",
              "    </tr>\n",
              "    <tr>\n",
              "      <th>2</th>\n",
              "      <td>Control</td>\n",
              "      <td>4</td>\n",
              "    </tr>\n",
              "    <tr>\n",
              "      <th>3</th>\n",
              "      <td>Control</td>\n",
              "      <td>5</td>\n",
              "    </tr>\n",
              "    <tr>\n",
              "      <th>4</th>\n",
              "      <td>Control</td>\n",
              "      <td>8</td>\n",
              "    </tr>\n",
              "  </tbody>\n",
              "</table>\n",
              "</div>\n",
              "    <div class=\"colab-df-buttons\">\n",
              "\n",
              "  <div class=\"colab-df-container\">\n",
              "    <button class=\"colab-df-convert\" onclick=\"convertToInteractive('df-8ea612cc-fb25-4f37-8280-24fb38a10dd6')\"\n",
              "            title=\"Convert this dataframe to an interactive table.\"\n",
              "            style=\"display:none;\">\n",
              "\n",
              "  <svg xmlns=\"http://www.w3.org/2000/svg\" height=\"24px\" viewBox=\"0 -960 960 960\">\n",
              "    <path d=\"M120-120v-720h720v720H120Zm60-500h600v-160H180v160Zm220 220h160v-160H400v160Zm0 220h160v-160H400v160ZM180-400h160v-160H180v160Zm440 0h160v-160H620v160ZM180-180h160v-160H180v160Zm440 0h160v-160H620v160Z\"/>\n",
              "  </svg>\n",
              "    </button>\n",
              "\n",
              "  <style>\n",
              "    .colab-df-container {\n",
              "      display:flex;\n",
              "      gap: 12px;\n",
              "    }\n",
              "\n",
              "    .colab-df-convert {\n",
              "      background-color: #E8F0FE;\n",
              "      border: none;\n",
              "      border-radius: 50%;\n",
              "      cursor: pointer;\n",
              "      display: none;\n",
              "      fill: #1967D2;\n",
              "      height: 32px;\n",
              "      padding: 0 0 0 0;\n",
              "      width: 32px;\n",
              "    }\n",
              "\n",
              "    .colab-df-convert:hover {\n",
              "      background-color: #E2EBFA;\n",
              "      box-shadow: 0px 1px 2px rgba(60, 64, 67, 0.3), 0px 1px 3px 1px rgba(60, 64, 67, 0.15);\n",
              "      fill: #174EA6;\n",
              "    }\n",
              "\n",
              "    .colab-df-buttons div {\n",
              "      margin-bottom: 4px;\n",
              "    }\n",
              "\n",
              "    [theme=dark] .colab-df-convert {\n",
              "      background-color: #3B4455;\n",
              "      fill: #D2E3FC;\n",
              "    }\n",
              "\n",
              "    [theme=dark] .colab-df-convert:hover {\n",
              "      background-color: #434B5C;\n",
              "      box-shadow: 0px 1px 3px 1px rgba(0, 0, 0, 0.15);\n",
              "      filter: drop-shadow(0px 1px 2px rgba(0, 0, 0, 0.3));\n",
              "      fill: #FFFFFF;\n",
              "    }\n",
              "  </style>\n",
              "\n",
              "    <script>\n",
              "      const buttonEl =\n",
              "        document.querySelector('#df-8ea612cc-fb25-4f37-8280-24fb38a10dd6 button.colab-df-convert');\n",
              "      buttonEl.style.display =\n",
              "        google.colab.kernel.accessAllowed ? 'block' : 'none';\n",
              "\n",
              "      async function convertToInteractive(key) {\n",
              "        const element = document.querySelector('#df-8ea612cc-fb25-4f37-8280-24fb38a10dd6');\n",
              "        const dataTable =\n",
              "          await google.colab.kernel.invokeFunction('convertToInteractive',\n",
              "                                                    [key], {});\n",
              "        if (!dataTable) return;\n",
              "\n",
              "        const docLinkHtml = 'Like what you see? Visit the ' +\n",
              "          '<a target=\"_blank\" href=https://colab.research.google.com/notebooks/data_table.ipynb>data table notebook</a>'\n",
              "          + ' to learn more about interactive tables.';\n",
              "        element.innerHTML = '';\n",
              "        dataTable['output_type'] = 'display_data';\n",
              "        await google.colab.output.renderOutput(dataTable, element);\n",
              "        const docLink = document.createElement('div');\n",
              "        docLink.innerHTML = docLinkHtml;\n",
              "        element.appendChild(docLink);\n",
              "      }\n",
              "    </script>\n",
              "  </div>\n",
              "\n",
              "\n",
              "<div id=\"df-010efa6b-2482-48bb-a81d-b551aa6689e7\">\n",
              "  <button class=\"colab-df-quickchart\" onclick=\"quickchart('df-010efa6b-2482-48bb-a81d-b551aa6689e7')\"\n",
              "            title=\"Suggest charts\"\n",
              "            style=\"display:none;\">\n",
              "\n",
              "<svg xmlns=\"http://www.w3.org/2000/svg\" height=\"24px\"viewBox=\"0 0 24 24\"\n",
              "     width=\"24px\">\n",
              "    <g>\n",
              "        <path d=\"M19 3H5c-1.1 0-2 .9-2 2v14c0 1.1.9 2 2 2h14c1.1 0 2-.9 2-2V5c0-1.1-.9-2-2-2zM9 17H7v-7h2v7zm4 0h-2V7h2v10zm4 0h-2v-4h2v4z\"/>\n",
              "    </g>\n",
              "</svg>\n",
              "  </button>\n",
              "\n",
              "<style>\n",
              "  .colab-df-quickchart {\n",
              "      --bg-color: #E8F0FE;\n",
              "      --fill-color: #1967D2;\n",
              "      --hover-bg-color: #E2EBFA;\n",
              "      --hover-fill-color: #174EA6;\n",
              "      --disabled-fill-color: #AAA;\n",
              "      --disabled-bg-color: #DDD;\n",
              "  }\n",
              "\n",
              "  [theme=dark] .colab-df-quickchart {\n",
              "      --bg-color: #3B4455;\n",
              "      --fill-color: #D2E3FC;\n",
              "      --hover-bg-color: #434B5C;\n",
              "      --hover-fill-color: #FFFFFF;\n",
              "      --disabled-bg-color: #3B4455;\n",
              "      --disabled-fill-color: #666;\n",
              "  }\n",
              "\n",
              "  .colab-df-quickchart {\n",
              "    background-color: var(--bg-color);\n",
              "    border: none;\n",
              "    border-radius: 50%;\n",
              "    cursor: pointer;\n",
              "    display: none;\n",
              "    fill: var(--fill-color);\n",
              "    height: 32px;\n",
              "    padding: 0;\n",
              "    width: 32px;\n",
              "  }\n",
              "\n",
              "  .colab-df-quickchart:hover {\n",
              "    background-color: var(--hover-bg-color);\n",
              "    box-shadow: 0 1px 2px rgba(60, 64, 67, 0.3), 0 1px 3px 1px rgba(60, 64, 67, 0.15);\n",
              "    fill: var(--button-hover-fill-color);\n",
              "  }\n",
              "\n",
              "  .colab-df-quickchart-complete:disabled,\n",
              "  .colab-df-quickchart-complete:disabled:hover {\n",
              "    background-color: var(--disabled-bg-color);\n",
              "    fill: var(--disabled-fill-color);\n",
              "    box-shadow: none;\n",
              "  }\n",
              "\n",
              "  .colab-df-spinner {\n",
              "    border: 2px solid var(--fill-color);\n",
              "    border-color: transparent;\n",
              "    border-bottom-color: var(--fill-color);\n",
              "    animation:\n",
              "      spin 1s steps(1) infinite;\n",
              "  }\n",
              "\n",
              "  @keyframes spin {\n",
              "    0% {\n",
              "      border-color: transparent;\n",
              "      border-bottom-color: var(--fill-color);\n",
              "      border-left-color: var(--fill-color);\n",
              "    }\n",
              "    20% {\n",
              "      border-color: transparent;\n",
              "      border-left-color: var(--fill-color);\n",
              "      border-top-color: var(--fill-color);\n",
              "    }\n",
              "    30% {\n",
              "      border-color: transparent;\n",
              "      border-left-color: var(--fill-color);\n",
              "      border-top-color: var(--fill-color);\n",
              "      border-right-color: var(--fill-color);\n",
              "    }\n",
              "    40% {\n",
              "      border-color: transparent;\n",
              "      border-right-color: var(--fill-color);\n",
              "      border-top-color: var(--fill-color);\n",
              "    }\n",
              "    60% {\n",
              "      border-color: transparent;\n",
              "      border-right-color: var(--fill-color);\n",
              "    }\n",
              "    80% {\n",
              "      border-color: transparent;\n",
              "      border-right-color: var(--fill-color);\n",
              "      border-bottom-color: var(--fill-color);\n",
              "    }\n",
              "    90% {\n",
              "      border-color: transparent;\n",
              "      border-bottom-color: var(--fill-color);\n",
              "    }\n",
              "  }\n",
              "</style>\n",
              "\n",
              "  <script>\n",
              "    async function quickchart(key) {\n",
              "      const quickchartButtonEl =\n",
              "        document.querySelector('#' + key + ' button');\n",
              "      quickchartButtonEl.disabled = true;  // To prevent multiple clicks.\n",
              "      quickchartButtonEl.classList.add('colab-df-spinner');\n",
              "      try {\n",
              "        const charts = await google.colab.kernel.invokeFunction(\n",
              "            'suggestCharts', [key], {});\n",
              "      } catch (error) {\n",
              "        console.error('Error during call to suggestCharts:', error);\n",
              "      }\n",
              "      quickchartButtonEl.classList.remove('colab-df-spinner');\n",
              "      quickchartButtonEl.classList.add('colab-df-quickchart-complete');\n",
              "    }\n",
              "    (() => {\n",
              "      let quickchartButtonEl =\n",
              "        document.querySelector('#df-010efa6b-2482-48bb-a81d-b551aa6689e7 button');\n",
              "      quickchartButtonEl.style.display =\n",
              "        google.colab.kernel.accessAllowed ? 'block' : 'none';\n",
              "    })();\n",
              "  </script>\n",
              "</div>\n",
              "\n",
              "    </div>\n",
              "  </div>\n"
            ],
            "application/vnd.google.colaboratory.intrinsic+json": {
              "type": "dataframe",
              "variable_name": "df",
              "summary": "{\n  \"name\": \"df\",\n  \"rows\": 80,\n  \"fields\": [\n    {\n      \"column\": \"group\",\n      \"properties\": {\n        \"dtype\": \"category\",\n        \"num_unique_values\": 2,\n        \"samples\": [\n          \"Experimental\",\n          \"Control\"\n        ],\n        \"semantic_type\": \"\",\n        \"description\": \"\"\n      }\n    },\n    {\n      \"column\": \"mean_duration\",\n      \"properties\": {\n        \"dtype\": \"number\",\n        \"std\": 1,\n        \"min\": 2,\n        \"max\": 9,\n        \"num_unique_values\": 8,\n        \"samples\": [\n          5,\n          2\n        ],\n        \"semantic_type\": \"\",\n        \"description\": \"\"\n      }\n    }\n  ]\n}"
            }
          },
          "metadata": {},
          "execution_count": 1
        }
      ]
    },
    {
      "cell_type": "code",
      "source": [
        "df.tail()"
      ],
      "metadata": {
        "colab": {
          "base_uri": "https://localhost:8080/",
          "height": 206
        },
        "id": "pJ4J8IlTgrCT",
        "outputId": "1c0b4c0b-6098-4810-9f46-1035059b2b28"
      },
      "execution_count": 2,
      "outputs": [
        {
          "output_type": "execute_result",
          "data": {
            "text/plain": [
              "           group  mean_duration\n",
              "75  Experimental              4\n",
              "76  Experimental              3\n",
              "77  Experimental              3\n",
              "78  Experimental              5\n",
              "79  Experimental              5"
            ],
            "text/html": [
              "\n",
              "  <div id=\"df-bc02168f-3f68-430c-a0d5-ce6edaf05cb3\" class=\"colab-df-container\">\n",
              "    <div>\n",
              "<style scoped>\n",
              "    .dataframe tbody tr th:only-of-type {\n",
              "        vertical-align: middle;\n",
              "    }\n",
              "\n",
              "    .dataframe tbody tr th {\n",
              "        vertical-align: top;\n",
              "    }\n",
              "\n",
              "    .dataframe thead th {\n",
              "        text-align: right;\n",
              "    }\n",
              "</style>\n",
              "<table border=\"1\" class=\"dataframe\">\n",
              "  <thead>\n",
              "    <tr style=\"text-align: right;\">\n",
              "      <th></th>\n",
              "      <th>group</th>\n",
              "      <th>mean_duration</th>\n",
              "    </tr>\n",
              "  </thead>\n",
              "  <tbody>\n",
              "    <tr>\n",
              "      <th>75</th>\n",
              "      <td>Experimental</td>\n",
              "      <td>4</td>\n",
              "    </tr>\n",
              "    <tr>\n",
              "      <th>76</th>\n",
              "      <td>Experimental</td>\n",
              "      <td>3</td>\n",
              "    </tr>\n",
              "    <tr>\n",
              "      <th>77</th>\n",
              "      <td>Experimental</td>\n",
              "      <td>3</td>\n",
              "    </tr>\n",
              "    <tr>\n",
              "      <th>78</th>\n",
              "      <td>Experimental</td>\n",
              "      <td>5</td>\n",
              "    </tr>\n",
              "    <tr>\n",
              "      <th>79</th>\n",
              "      <td>Experimental</td>\n",
              "      <td>5</td>\n",
              "    </tr>\n",
              "  </tbody>\n",
              "</table>\n",
              "</div>\n",
              "    <div class=\"colab-df-buttons\">\n",
              "\n",
              "  <div class=\"colab-df-container\">\n",
              "    <button class=\"colab-df-convert\" onclick=\"convertToInteractive('df-bc02168f-3f68-430c-a0d5-ce6edaf05cb3')\"\n",
              "            title=\"Convert this dataframe to an interactive table.\"\n",
              "            style=\"display:none;\">\n",
              "\n",
              "  <svg xmlns=\"http://www.w3.org/2000/svg\" height=\"24px\" viewBox=\"0 -960 960 960\">\n",
              "    <path d=\"M120-120v-720h720v720H120Zm60-500h600v-160H180v160Zm220 220h160v-160H400v160Zm0 220h160v-160H400v160ZM180-400h160v-160H180v160Zm440 0h160v-160H620v160ZM180-180h160v-160H180v160Zm440 0h160v-160H620v160Z\"/>\n",
              "  </svg>\n",
              "    </button>\n",
              "\n",
              "  <style>\n",
              "    .colab-df-container {\n",
              "      display:flex;\n",
              "      gap: 12px;\n",
              "    }\n",
              "\n",
              "    .colab-df-convert {\n",
              "      background-color: #E8F0FE;\n",
              "      border: none;\n",
              "      border-radius: 50%;\n",
              "      cursor: pointer;\n",
              "      display: none;\n",
              "      fill: #1967D2;\n",
              "      height: 32px;\n",
              "      padding: 0 0 0 0;\n",
              "      width: 32px;\n",
              "    }\n",
              "\n",
              "    .colab-df-convert:hover {\n",
              "      background-color: #E2EBFA;\n",
              "      box-shadow: 0px 1px 2px rgba(60, 64, 67, 0.3), 0px 1px 3px 1px rgba(60, 64, 67, 0.15);\n",
              "      fill: #174EA6;\n",
              "    }\n",
              "\n",
              "    .colab-df-buttons div {\n",
              "      margin-bottom: 4px;\n",
              "    }\n",
              "\n",
              "    [theme=dark] .colab-df-convert {\n",
              "      background-color: #3B4455;\n",
              "      fill: #D2E3FC;\n",
              "    }\n",
              "\n",
              "    [theme=dark] .colab-df-convert:hover {\n",
              "      background-color: #434B5C;\n",
              "      box-shadow: 0px 1px 3px 1px rgba(0, 0, 0, 0.15);\n",
              "      filter: drop-shadow(0px 1px 2px rgba(0, 0, 0, 0.3));\n",
              "      fill: #FFFFFF;\n",
              "    }\n",
              "  </style>\n",
              "\n",
              "    <script>\n",
              "      const buttonEl =\n",
              "        document.querySelector('#df-bc02168f-3f68-430c-a0d5-ce6edaf05cb3 button.colab-df-convert');\n",
              "      buttonEl.style.display =\n",
              "        google.colab.kernel.accessAllowed ? 'block' : 'none';\n",
              "\n",
              "      async function convertToInteractive(key) {\n",
              "        const element = document.querySelector('#df-bc02168f-3f68-430c-a0d5-ce6edaf05cb3');\n",
              "        const dataTable =\n",
              "          await google.colab.kernel.invokeFunction('convertToInteractive',\n",
              "                                                    [key], {});\n",
              "        if (!dataTable) return;\n",
              "\n",
              "        const docLinkHtml = 'Like what you see? Visit the ' +\n",
              "          '<a target=\"_blank\" href=https://colab.research.google.com/notebooks/data_table.ipynb>data table notebook</a>'\n",
              "          + ' to learn more about interactive tables.';\n",
              "        element.innerHTML = '';\n",
              "        dataTable['output_type'] = 'display_data';\n",
              "        await google.colab.output.renderOutput(dataTable, element);\n",
              "        const docLink = document.createElement('div');\n",
              "        docLink.innerHTML = docLinkHtml;\n",
              "        element.appendChild(docLink);\n",
              "      }\n",
              "    </script>\n",
              "  </div>\n",
              "\n",
              "\n",
              "<div id=\"df-80047b71-75db-4dff-90a0-f7537e62914e\">\n",
              "  <button class=\"colab-df-quickchart\" onclick=\"quickchart('df-80047b71-75db-4dff-90a0-f7537e62914e')\"\n",
              "            title=\"Suggest charts\"\n",
              "            style=\"display:none;\">\n",
              "\n",
              "<svg xmlns=\"http://www.w3.org/2000/svg\" height=\"24px\"viewBox=\"0 0 24 24\"\n",
              "     width=\"24px\">\n",
              "    <g>\n",
              "        <path d=\"M19 3H5c-1.1 0-2 .9-2 2v14c0 1.1.9 2 2 2h14c1.1 0 2-.9 2-2V5c0-1.1-.9-2-2-2zM9 17H7v-7h2v7zm4 0h-2V7h2v10zm4 0h-2v-4h2v4z\"/>\n",
              "    </g>\n",
              "</svg>\n",
              "  </button>\n",
              "\n",
              "<style>\n",
              "  .colab-df-quickchart {\n",
              "      --bg-color: #E8F0FE;\n",
              "      --fill-color: #1967D2;\n",
              "      --hover-bg-color: #E2EBFA;\n",
              "      --hover-fill-color: #174EA6;\n",
              "      --disabled-fill-color: #AAA;\n",
              "      --disabled-bg-color: #DDD;\n",
              "  }\n",
              "\n",
              "  [theme=dark] .colab-df-quickchart {\n",
              "      --bg-color: #3B4455;\n",
              "      --fill-color: #D2E3FC;\n",
              "      --hover-bg-color: #434B5C;\n",
              "      --hover-fill-color: #FFFFFF;\n",
              "      --disabled-bg-color: #3B4455;\n",
              "      --disabled-fill-color: #666;\n",
              "  }\n",
              "\n",
              "  .colab-df-quickchart {\n",
              "    background-color: var(--bg-color);\n",
              "    border: none;\n",
              "    border-radius: 50%;\n",
              "    cursor: pointer;\n",
              "    display: none;\n",
              "    fill: var(--fill-color);\n",
              "    height: 32px;\n",
              "    padding: 0;\n",
              "    width: 32px;\n",
              "  }\n",
              "\n",
              "  .colab-df-quickchart:hover {\n",
              "    background-color: var(--hover-bg-color);\n",
              "    box-shadow: 0 1px 2px rgba(60, 64, 67, 0.3), 0 1px 3px 1px rgba(60, 64, 67, 0.15);\n",
              "    fill: var(--button-hover-fill-color);\n",
              "  }\n",
              "\n",
              "  .colab-df-quickchart-complete:disabled,\n",
              "  .colab-df-quickchart-complete:disabled:hover {\n",
              "    background-color: var(--disabled-bg-color);\n",
              "    fill: var(--disabled-fill-color);\n",
              "    box-shadow: none;\n",
              "  }\n",
              "\n",
              "  .colab-df-spinner {\n",
              "    border: 2px solid var(--fill-color);\n",
              "    border-color: transparent;\n",
              "    border-bottom-color: var(--fill-color);\n",
              "    animation:\n",
              "      spin 1s steps(1) infinite;\n",
              "  }\n",
              "\n",
              "  @keyframes spin {\n",
              "    0% {\n",
              "      border-color: transparent;\n",
              "      border-bottom-color: var(--fill-color);\n",
              "      border-left-color: var(--fill-color);\n",
              "    }\n",
              "    20% {\n",
              "      border-color: transparent;\n",
              "      border-left-color: var(--fill-color);\n",
              "      border-top-color: var(--fill-color);\n",
              "    }\n",
              "    30% {\n",
              "      border-color: transparent;\n",
              "      border-left-color: var(--fill-color);\n",
              "      border-top-color: var(--fill-color);\n",
              "      border-right-color: var(--fill-color);\n",
              "    }\n",
              "    40% {\n",
              "      border-color: transparent;\n",
              "      border-right-color: var(--fill-color);\n",
              "      border-top-color: var(--fill-color);\n",
              "    }\n",
              "    60% {\n",
              "      border-color: transparent;\n",
              "      border-right-color: var(--fill-color);\n",
              "    }\n",
              "    80% {\n",
              "      border-color: transparent;\n",
              "      border-right-color: var(--fill-color);\n",
              "      border-bottom-color: var(--fill-color);\n",
              "    }\n",
              "    90% {\n",
              "      border-color: transparent;\n",
              "      border-bottom-color: var(--fill-color);\n",
              "    }\n",
              "  }\n",
              "</style>\n",
              "\n",
              "  <script>\n",
              "    async function quickchart(key) {\n",
              "      const quickchartButtonEl =\n",
              "        document.querySelector('#' + key + ' button');\n",
              "      quickchartButtonEl.disabled = true;  // To prevent multiple clicks.\n",
              "      quickchartButtonEl.classList.add('colab-df-spinner');\n",
              "      try {\n",
              "        const charts = await google.colab.kernel.invokeFunction(\n",
              "            'suggestCharts', [key], {});\n",
              "      } catch (error) {\n",
              "        console.error('Error during call to suggestCharts:', error);\n",
              "      }\n",
              "      quickchartButtonEl.classList.remove('colab-df-spinner');\n",
              "      quickchartButtonEl.classList.add('colab-df-quickchart-complete');\n",
              "    }\n",
              "    (() => {\n",
              "      let quickchartButtonEl =\n",
              "        document.querySelector('#df-80047b71-75db-4dff-90a0-f7537e62914e button');\n",
              "      quickchartButtonEl.style.display =\n",
              "        google.colab.kernel.accessAllowed ? 'block' : 'none';\n",
              "    })();\n",
              "  </script>\n",
              "</div>\n",
              "\n",
              "    </div>\n",
              "  </div>\n"
            ],
            "application/vnd.google.colaboratory.intrinsic+json": {
              "type": "dataframe",
              "summary": "{\n  \"name\": \"df\",\n  \"rows\": 5,\n  \"fields\": [\n    {\n      \"column\": \"group\",\n      \"properties\": {\n        \"dtype\": \"category\",\n        \"num_unique_values\": 1,\n        \"samples\": [\n          \"Experimental\"\n        ],\n        \"semantic_type\": \"\",\n        \"description\": \"\"\n      }\n    },\n    {\n      \"column\": \"mean_duration\",\n      \"properties\": {\n        \"dtype\": \"number\",\n        \"std\": 1,\n        \"min\": 3,\n        \"max\": 5,\n        \"num_unique_values\": 3,\n        \"samples\": [\n          4\n        ],\n        \"semantic_type\": \"\",\n        \"description\": \"\"\n      }\n    }\n  ]\n}"
            }
          },
          "metadata": {},
          "execution_count": 2
        }
      ]
    },
    {
      "cell_type": "code",
      "source": [
        "df['group'].unique()\n"
      ],
      "metadata": {
        "colab": {
          "base_uri": "https://localhost:8080/"
        },
        "id": "LsYpyLHZeqB8",
        "outputId": "6cb9b2d8-1d37-4327-9820-c73d74284aed"
      },
      "execution_count": 3,
      "outputs": [
        {
          "output_type": "execute_result",
          "data": {
            "text/plain": [
              "array(['Control', 'Experimental'], dtype=object)"
            ]
          },
          "metadata": {},
          "execution_count": 3
        }
      ]
    },
    {
      "cell_type": "code",
      "source": [
        "# Calculating the mean for each group\n",
        "group_means = df.groupby('group')['mean_duration'].mean()\n",
        "\n",
        "print(group_means)"
      ],
      "metadata": {
        "colab": {
          "base_uri": "https://localhost:8080/"
        },
        "id": "dgzqYGzRhi0G",
        "outputId": "64d53db8-8e94-4784-bf28-07a54fbfb9e9"
      },
      "execution_count": 4,
      "outputs": [
        {
          "output_type": "stream",
          "name": "stdout",
          "text": [
            "group\n",
            "Control         5.4\n",
            "Experimental    4.8\n",
            "Name: mean_duration, dtype: float64\n"
          ]
        }
      ]
    },
    {
      "cell_type": "code",
      "source": [
        "# Calculating the means separately\n",
        "control_mean = df[df['group'] == 'Control']['mean_duration'].mean()\n",
        "experimental_mean = df[df['group'] == 'Experimental']['mean_duration'].mean()\n",
        "\n",
        "# Printing the results\n",
        "print(f\"Mean duration for Control group: {control_mean}\")\n",
        "print(f\"Mean duration for Experimental group: {experimental_mean}\")"
      ],
      "metadata": {
        "colab": {
          "base_uri": "https://localhost:8080/"
        },
        "id": "HpdyMoj9hT1T",
        "outputId": "8d2a686e-bf9f-4665-effa-6c41a261051d"
      },
      "execution_count": 5,
      "outputs": [
        {
          "output_type": "stream",
          "name": "stdout",
          "text": [
            "Mean duration for Control group: 5.4\n",
            "Mean duration for Experimental group: 4.8\n"
          ]
        }
      ]
    },
    {
      "cell_type": "code",
      "source": [
        "# Calculating the means separately\n",
        "control_count = df[df['group'] == 'Control']['mean_duration'].count()\n",
        "experimental_count = df[df['group'] == 'Experimental']['mean_duration'].count()\n",
        "\n",
        "# Printing the results\n",
        "print(\"Control count = \" +str(control_count))\n",
        "print(\"Experimental count = \" + str(experimental_count))"
      ],
      "metadata": {
        "colab": {
          "base_uri": "https://localhost:8080/"
        },
        "id": "MCp5MtYfhpv0",
        "outputId": "5c6054a7-23b7-43ed-a2f7-65e537a7a60c"
      },
      "execution_count": 6,
      "outputs": [
        {
          "output_type": "stream",
          "name": "stdout",
          "text": [
            "Control count = 40\n",
            "Experimental count = 40\n"
          ]
        }
      ]
    },
    {
      "cell_type": "markdown",
      "source": [
        "# Let's run 10,000 Permutations"
      ],
      "metadata": {
        "id": "K9QnoeM7h26p"
      }
    },
    {
      "cell_type": "code",
      "source": [
        "observed_diff = experimental_mean - control_mean\n",
        "\n",
        "print(f\"Observed difference in means: {observed_diff}\")\n",
        "\n",
        "# Permutations\n",
        "n_permutations = 10000\n",
        "combined = df['mean_duration'].values\n",
        "perm_diffs = []\n",
        "\n",
        "for _ in range(n_permutations):\n",
        "    np.random.shuffle(combined)\n",
        "    perm_control_mean = np.mean(combined[:control_count])  # First 40 values as Control\n",
        "    perm_experimental_mean = np.mean(combined[experimental_count:])  # Last 40 values as Experimental\n",
        "    mean_differences = perm_experimental_mean - perm_control_mean\n",
        "    perm_diffs.append(mean_differences)\n",
        "\n",
        "\n",
        "# Convert results to a DataFrame\n",
        "perm_results = pd.DataFrame({'perm_diff': perm_diffs})\n",
        "\n",
        "# Print a summary of the results\n",
        "print(\"Permutation Summary:\")\n",
        "print(perm_results.describe())\n",
        "\n",
        "# Optional: Plot histogram of permuted differences\n",
        "import matplotlib.pyplot as plt\n",
        "\n",
        "plt.hist(perm_diffs, bins=30, edgecolor='black', alpha=0.7)\n",
        "plt.axvline(observed_diff, color='red', linestyle='dashed', linewidth=1, label='Observed Difference')\n",
        "plt.title('Histogram of Permutation Differences')\n",
        "plt.xlabel('Difference in Means')\n",
        "plt.ylabel('Frequency')\n",
        "plt.legend()\n",
        "plt.show()"
      ],
      "metadata": {
        "colab": {
          "base_uri": "https://localhost:8080/",
          "height": 671
        },
        "id": "VzxqwF0tkGmD",
        "outputId": "28bb4ef9-72c3-4493-a1b7-1ee3fb43fbb3"
      },
      "execution_count": 30,
      "outputs": [
        {
          "output_type": "stream",
          "name": "stdout",
          "text": [
            "Observed difference in means: -0.6000000000000005\n",
            "Permutation Summary:\n",
            "         perm_diff\n",
            "count  10000.00000\n",
            "mean       0.00938\n",
            "std        0.33819\n",
            "min       -1.30000\n",
            "25%       -0.20000\n",
            "50%        0.00000\n",
            "75%        0.25000\n",
            "max        1.25000\n"
          ]
        },
        {
          "output_type": "display_data",
          "data": {
            "text/plain": [
              "<Figure size 640x480 with 1 Axes>"
            ],
            "image/png": "[encoded data removed]"
          },
          "metadata": {}
        }
      ]
    },
    {
      "cell_type": "markdown",
      "source": [
        "## This script performs the following:\n",
        "\n",
        "1. Calculates the observed difference in means.\n",
        "2. Runs 10,000 permutations to calculate the differences in means under random shuffling.\n",
        "3. Summarizes the permutation differences.\n",
        "4. Visualizes the differences with a histogram, highlighting the observed difference in red."
      ],
      "metadata": {
        "id": "ecsusQ_SkjQZ"
      }
    },
    {
      "cell_type": "markdown",
      "source": [
        "## How many values exceed the mean difference of 0.6?"
      ],
      "metadata": {
        "id": "4E3cQL9FiNw7"
      }
    },
    {
      "cell_type": "code",
      "source": [
        "# Convert our mean_differences to a data frame for easy manipulation\n",
        "mean_differences = pd.DataFrame(perm_diffs)\n",
        "\n",
        "# Get the length of this series to count the number of value exceeding 0.6\n",
        "exceeds_mean_diff = len(mean_differences[mean_differences[0] >= 0.6])\n",
        "print(exceeds_mean_diff)"
      ],
      "metadata": {
        "colab": {
          "base_uri": "https://localhost:8080/"
        },
        "id": "Sgbxy-eciPfD",
        "outputId": "4cd5f4c7-1bc6-4be7-ee4c-fcfd9543d453"
      },
      "execution_count": 31,
      "outputs": [
        {
          "output_type": "stream",
          "name": "stdout",
          "text": [
            "453\n"
          ]
        }
      ]
    },
    {
      "cell_type": "code",
      "source": [
        "# Number of trials we performed was 10,000\n",
        "# P-Value is equal to the\n",
        "\n",
        "p_value = exceeds_mean_diff / n_permutations\n",
        "print(p_value)"
      ],
      "metadata": {
        "colab": {
          "base_uri": "https://localhost:8080/"
        },
        "id": "LM-xu-deiYoQ",
        "outputId": "6b56fe68-b62e-4907-e0e4-58343a81f6a7"
      },
      "execution_count": 32,
      "outputs": [
        {
          "output_type": "stream",
          "name": "stdout",
          "text": [
            "0.0453\n"
          ]
        }
      ]
    },
    {
      "cell_type": "markdown",
      "source": [
        "## **Make a Decision**:\n",
        "   - If \\(p\\)-value < \\(\\alpha\\), reject \\(H_0\\).\n",
        "   - Otherwise, fail to reject \\(H_0\\).\n",
        "## **Interpret the Results**:\n",
        "   - Explain the findings in the context of the problem."
      ],
      "metadata": {
        "id": "N02uRQaksi9K"
      }
    },
    {
      "cell_type": "code",
      "source": [
        "# Hypothetical p-value obtained from a statistical test\n",
        "#p_value = 0.04  # Example value\n",
        "\n",
        "# Significance level (alpha)\n",
        "alpha = 0.05\n",
        "\n",
        "# Make a decision\n",
        "if p_value < alpha:\n",
        "    decision = \"Reject the null hypothesis (H0:The new drug has no effect on recovery time compared to a placebo.)\"\n",
        "    interpretation = \"The results are statistically significant. There is evidence to suggest the alternative hypothesis (H1) is true.\"\n",
        "else:\n",
        "    decision = \"Fail to reject the null hypothesis (H0)\"\n",
        "    interpretation = \"The results are not statistically significant. There is insufficient evidence to support the alternative hypothesis (H1: The new drug reduces recovery time compared to a placebo.).\"\n",
        "\n",
        "# Output the decision and interpretation\n",
        "print(f\"Decision: {decision}\")\n",
        "print(f\"Interpretation: {interpretation}\")\n"
      ],
      "metadata": {
        "colab": {
          "base_uri": "https://localhost:8080/"
        },
        "id": "FqrHYJqPsjiQ",
        "outputId": "4e98232d-b3d9-4294-b4dc-2482832014c3"
      },
      "execution_count": 33,
      "outputs": [
        {
          "output_type": "stream",
          "name": "stdout",
          "text": [
            "Decision: Reject the null hypothesis (H0:The new drug has no effect on recovery time compared to a placebo.)\n",
            "Interpretation: The results are statistically significant. There is evidence to suggest the alternative hypothesis (H1) is true.\n"
          ]
        }
      ]
    },
    {
      "cell_type": "code",
      "source": [],
      "metadata": {
        "id": "J5kktvYRuoJC"
      },
      "execution_count": null,
      "outputs": []
    },
    {
      "cell_type": "markdown",
      "source": [
        "### What is a Hypothesis Test?\n",
        "\n",
        "A hypothesis test is a statistical method used to determine whether there is enough evidence in a sample of data to support a certain claim (hypothesis) about a population.\n",
        "\n",
        "---\n",
        "\n",
        "### Key Concepts in Hypothesis Testing\n",
        "\n",
        "#### 1. **Null Hypothesis (\\(H_0\\))**\n",
        "- The default assumption or claim.\n",
        "- States that there is no effect, no difference, or no relationship.\n",
        "- **Example**: \"The new drug has no effect on recovery time compared to a placebo.\"\n",
        "\n",
        "#### 2. **Alternative Hypothesis (\\(H_1\\) or \\(H_a\\))**\n",
        "- The competing claim.\n",
        "- States that there is an effect, difference, or relationship.\n",
        "- **Example**: \"The new drug reduces recovery time compared to a placebo.\"\n",
        "\n",
        "#### 3. **Significance Level (\\(\\alpha\\))**\n",
        "- The threshold for deciding whether to reject the null hypothesis.\n",
        "- Common values: \\(\\alpha = 0.05\\) (5%) or \\(\\alpha = 0.01\\) (1%).\n",
        "- Represents the probability of rejecting the null hypothesis when it is actually true (**Type I error**).\n",
        "\n",
        "#### 4. **P-value**\n",
        "- The probability of observing the data (or something more extreme) if the null hypothesis is true.\n",
        "- If \\(p\\)-value < \\(\\alpha\\), reject \\(H_0\\).\n",
        "\n",
        "#### 5. **Test Statistic**\n",
        "- A numerical value calculated from the data to help decide whether to reject \\(H_0\\).\n",
        "- **Examples**: \\(z\\)-score, \\(t\\)-statistic, or difference in means.\n",
        "\n",
        "#### 6. **Conclusion**\n",
        "- Based on the test, either:\n",
        "  - Reject \\(H_0\\).\n",
        "  - Fail to reject \\(H_0\\).\n",
        "\n",
        "---\n",
        "\n",
        "### Steps in Hypothesis Testing\n",
        "\n",
        "1. **Formulate Hypotheses**:\n",
        "   - Define \\(H_0\\) and \\(H_1\\).\n",
        "\n",
        "2. **Choose a Test and Significance Level (\\(\\alpha\\))**:\n",
        "   - Select the statistical test (e.g., t-test, chi-square test, permutation test) and \\(\\alpha\\).\n",
        "\n",
        "3. **Calculate the Test Statistic and P-value**:\n",
        "   - Compute the statistic based on your data.\n",
        "   - Derive the \\(p\\)-value.\n",
        "\n",
        "4. **Make a Decision**:\n",
        "   - If \\(p\\)-value < \\(\\alpha\\), reject \\(H_0\\).\n",
        "   - Otherwise, fail to reject \\(H_0\\).\n",
        "\n",
        "5. **Interpret the Results**:\n",
        "   - Explain the findings in the context of the problem.\n",
        "\n",
        "---\n",
        "\n",
        "### Example of Hypothesis Testing\n",
        "\n",
        "#### **Scenario**:\n",
        "A company tests whether a new drug reduces illness recovery time compared to a placebo.\n",
        "\n",
        "1. **Hypotheses**:\n",
        "   - \\(H_0\\): The drug has no effect (mean recovery time is the same for both groups).\n",
        "   - \\(H_1\\): The drug reduces recovery time (mean recovery time is shorter for the drug group).\n",
        "\n",
        "2. **Significance Level**:\n",
        "   - Choose \\(\\alpha = 0.05\\).\n",
        "\n",
        "3. **Perform the Test**:\n",
        "   - Use a t-test or permutation test to calculate the \\(p\\)-value.\n",
        "\n",
        "4. **Decision**:\n",
        "   - If \\(p\\)-value < 0.05, reject \\(H_0\\).\n",
        "   - Otherwise, fail to reject \\(H_0\\).\n",
        "\n",
        "5. **Conclusion**:\n",
        "   - If \\(H_0\\) is rejected, the data provides evidence that the drug reduces recovery time.\n",
        "\n",
        "---\n",
        "\n",
        "### Types of Errors\n",
        "\n",
        "#### 1. **Type I Error**\n",
        "- Rejecting \\(H_0\\) when it is actually true.\n",
        "- False positive.\n",
        "\n",
        "#### 2. **Type II Error**\n",
        "- Failing to reject \\(H_0\\) when \\(H_1\\) is true.\n",
        "- False negative.\n",
        "\n",
        "---\n",
        "\n",
        "### Summary\n",
        "Hypothesis testing is a cornerstone of statistical analysis, used in fields like medicine, business, science, and engineering to validate or reject claims based on data.\n"
      ],
      "metadata": {
        "id": "_xG9PHVVskTX"
      }
    },
    {
      "cell_type": "code",
      "source": [],
      "metadata": {
        "id": "hs4jB1lGwSLv"
      },
      "execution_count": null,
      "outputs": []
    },
    {
      "cell_type": "markdown",
      "source": [
        "### Example: Permutation Test Explained\n",
        "\n",
        "Imagine a **clinical trial** where you are testing a new drug to see if it reduces illness recovery time compared to a placebo. The trial data includes the recovery times for two groups:\n",
        "\n",
        "- **Control group (placebo)**: `[7, 5, 4]`  \n",
        "- **Experimental group (drug)**: `[5, 8]`  \n",
        "\n",
        "The **observed difference** in the mean recovery times is calculated as:\n",
        "\n",
        "\\[\n",
        "\\text{Mean (Experimental)} - \\text{Mean (Control)} = \\frac{5 + 8}{2} - \\frac{7 + 5 + 4}{3} = 6.5 - 5.33 = 1.17\n",
        "\\]\n",
        "\n",
        "---\n",
        "\n",
        "### Null Hypothesis (\\(H_0\\)):\n",
        "The drug has no effect, and the observed difference is due to random chance.\n",
        "\n",
        "---\n",
        "\n",
        "### Step-by-Step Permutation Test\n",
        "\n",
        "#### **1. Combine the Data**\n",
        "Combine all recovery times into a single pool:\n",
        "\\[\n",
        "[7, 5, 4, 5, 8]\n",
        "\\]\n",
        "\n",
        "#### **2. Shuffle and Reassign Groups**\n",
        "Randomly shuffle the combined data and split it into two groups, preserving the original group sizes:\n",
        "- Example shuffle: `[5, 8, 7, 4, 5]`\n",
        "- New groups:\n",
        "  - **Shuffled Control**: `[5, 8, 7]`\n",
        "  - **Shuffled Experimental**: `[4, 5]`\n",
        "\n",
        "#### **3. Recalculate the Mean Difference**\n",
        "Calculate the mean difference for the shuffled groups:\n",
        "\\[\n",
        "\\text{Mean (Shuffled Experimental)} - \\text{Mean (Shuffled Control)} = \\frac{4 + 5}{2} - \\frac{5 + 8 + 7}{3} = 4.5 - 6.67 = -2.17\n",
        "\\]\n",
        "\n",
        "#### **4. Repeat for Many Permutations**\n",
        "Repeat the shuffling process thousands of times (e.g., 10,000 permutations), and record the mean difference for each permutation.\n",
        "\n",
        "---\n",
        "\n",
        "### Building the Null Distribution\n",
        "By shuffling the data and calculating mean differences repeatedly, you create a distribution of mean differences under the **null hypothesis** (no drug effect). This distribution reflects what differences would look like if the observed difference were purely due to chance.\n",
        "\n",
        "---\n",
        "\n",
        "### **Compare the Observed Difference**\n",
        "Once the null distribution is built:\n",
        "1. Compare the observed difference (1.17) to this distribution.\n",
        "2. Calculate the **p-value**: The proportion of permuted differences that are as extreme as or more extreme than the observed difference.\n",
        "\n",
        "---\n",
        "\n",
        "### **Example Outcome**\n",
        "- Suppose after 10,000 permutations, 300 permutations show a difference as extreme as or more extreme than the observed difference of 1.17.\n",
        "- The p-value is calculated as:\n",
        "  \\[\n",
        "  \\text{p-value} = \\frac{\\text{Number of extreme differences}}{\\text{Total permutations}} = \\frac{300}{10000} = 0.03\n",
        "  \\]\n",
        "\n",
        "---\n",
        "\n",
        "### **Interpretation**\n",
        "- If \\(p\\)-value \\(= 0.03 < 0.05\\), you reject the null hypothesis and conclude that the drug has a significant effect on recovery time.\n",
        "- Otherwise, you fail to reject \\(H_0\\), meaning there isn't enough evidence to conclude the drug is effective.\n",
        "\n",
        "---\n",
        "\n",
        "This permutation test is robust because it does not assume the data follows a normal distribution, making it ideal for small sample sizes like this clinical trial.\n"
      ],
      "metadata": {
        "id": "Sx8SvsfrwSo_"
      }
    },
    {
      "cell_type": "markdown",
      "source": [],
      "metadata": {
        "id": "NjtRD3CFD8eH"
      }
    },
    {
      "cell_type": "code",
      "source": [],
      "metadata": {
        "id": "TM2Ke5vaB3Jm"
      },
      "execution_count": null,
      "outputs": []
    },
    {
      "cell_type": "markdown",
      "source": [
        "## Example: \"np.random.randint(0,2)==True\"\n",
        "it is often used to randomly generate binary values (0 or 1), commonly applied in simulations, sampling, or initializing binary states. It can also be useful for shuffling data or creating random binary masks in data processing tasks."
      ],
      "metadata": {
        "id": "xiWu1tybCK1p"
      }
    },
    {
      "cell_type": "code",
      "source": [
        "#mean_difference = control_mean - experimental_mean\n",
        "data_points = list(df['mean_duration'])\n",
        "mean_differences_2 = []\n",
        "number_of_iterations = 10000\n",
        "\n",
        "for i in range(number_of_iterations):\n",
        "    group_1 = []\n",
        "    group_2 = []\n",
        "    for data_point in data_points:\n",
        "        random_assignment = np.random.randint(0,2)==True # Output: 0 or 1\n",
        "        if random_assignment:\n",
        "            group_1.append(data_point)\n",
        "        else:\n",
        "            group_2.append(data_point)\n",
        "\n",
        "    trial_mean_difference = np.mean(group_2) - np.mean(group_1)\n",
        "    mean_differences_2.append(trial_mean_difference)\n",
        "\n",
        "print(\"Mean Differences Mean - \" + str(np.array(mean_differences_2).mean()))\n",
        "# Generate Frequency or Histogram Plot\n",
        "sns.distplot(mean_differences_2)"
      ],
      "metadata": {
        "colab": {
          "base_uri": "https://localhost:8080/",
          "height": 665
        },
        "id": "Qius9RRph5-Z",
        "outputId": "43a731b1-a7ee-42f1-a0aa-2514bf531ed2"
      },
      "execution_count": 34,
      "outputs": [
        {
          "output_type": "stream",
          "name": "stdout",
          "text": [
            "Mean Differences Mean - 0.0009848481331028304\n"
          ]
        },
        {
          "output_type": "stream",
          "name": "stderr",
          "text": [
            "<ipython-input-34-f794cdd288bd>:21: UserWarning: \n",
            "\n",
            "`distplot` is a deprecated function and will be removed in seaborn v0.14.0.\n",
            "\n",
            "Please adapt your code to use either `displot` (a figure-level function with\n",
            "similar flexibility) or `histplot` (an axes-level function for histograms).\n",
            "\n",
            "For a guide to updating your code to use the new functions, please see\n",
            "https://gist.github.com/mwaskom/de44147ed2974457ad6372750bbe5751\n",
            "\n",
            "  sns.distplot(mean_differences_2)\n"
          ]
        },
        {
          "output_type": "execute_result",
          "data": {
            "text/plain": [
              "<Axes: ylabel='Density'>"
            ]
          },
          "metadata": {},
          "execution_count": 34
        },
        {
          "output_type": "display_data",
          "data": {
            "text/plain": [
              "<Figure size 640x480 with 1 Axes>"
            ],
            "image/png": "[encoded data removed]"
          },
          "metadata": {}
        }
      ]
    }
  ]
}